{
  "nbformat": 4,
  "nbformat_minor": 0,
  "metadata": {
    "colab": {
      "name": "id3.ipynb",
      "provenance": [],
      "collapsed_sections": []
    },
    "kernelspec": {
      "name": "python3",
      "display_name": "Python 3"
    }
  },
  "cells": [
    {
      "cell_type": "code",
      "metadata": {
        "colab": {
          "base_uri": "https://localhost:8080/"
        },
        "id": "n-ZLOUu28I3U",
        "outputId": "68b4d16f-e6b8-4e20-db0b-990d45837eee"
      },
      "source": [
        "from google.colab import drive\n",
        "drive.mount('/content/drive')\n",
        "\n",
        "%cd \"drive/My Drive/Colab Notebooks\""
      ],
      "execution_count": 2,
      "outputs": [
        {
          "output_type": "stream",
          "text": [
            "Mounted at /content/drive\n",
            "/content/drive/My Drive/Colab Notebooks\n"
          ],
          "name": "stdout"
        }
      ]
    },
    {
      "cell_type": "code",
      "metadata": {
        "id": "AorYr7oK8hnC"
      },
      "source": [
        "import pandas as pd\n",
        "import math\n",
        "import networkx as nx\n",
        "import matplotlib.pyplot as plt"
      ],
      "execution_count": 3,
      "outputs": []
    },
    {
      "cell_type": "code",
      "metadata": {
        "id": "Fga8i3ecbuDw"
      },
      "source": [
        "def rename_last_column(df):\n",
        "    cols = df.columns.values\n",
        "    cols[-1] = 'class'\n",
        "    df.columns = cols"
      ],
      "execution_count": 4,
      "outputs": []
    },
    {
      "cell_type": "code",
      "metadata": {
        "colab": {
          "base_uri": "https://localhost:8080/",
          "height": 483
        },
        "id": "qMecigU59ys_",
        "outputId": "0d6f7b82-cdea-4526-a152-4300574d0cbb"
      },
      "source": [
        "# Import examples\n",
        "example_set = pd.read_csv('examples/1819.csv')\n",
        "\n",
        "rename_last_column(example_set)\n",
        "\n",
        "example_set.head(14)"
      ],
      "execution_count": 5,
      "outputs": [
        {
          "output_type": "execute_result",
          "data": {
            "text/html": [
              "<div>\n",
              "<style scoped>\n",
              "    .dataframe tbody tr th:only-of-type {\n",
              "        vertical-align: middle;\n",
              "    }\n",
              "\n",
              "    .dataframe tbody tr th {\n",
              "        vertical-align: top;\n",
              "    }\n",
              "\n",
              "    .dataframe thead th {\n",
              "        text-align: right;\n",
              "    }\n",
              "</style>\n",
              "<table border=\"1\" class=\"dataframe\">\n",
              "  <thead>\n",
              "    <tr style=\"text-align: right;\">\n",
              "      <th></th>\n",
              "      <th>x1</th>\n",
              "      <th>x2</th>\n",
              "      <th>x3</th>\n",
              "      <th>class</th>\n",
              "    </tr>\n",
              "  </thead>\n",
              "  <tbody>\n",
              "    <tr>\n",
              "      <th>0</th>\n",
              "      <td>A</td>\n",
              "      <td>Y</td>\n",
              "      <td>K</td>\n",
              "      <td>-</td>\n",
              "    </tr>\n",
              "    <tr>\n",
              "      <th>1</th>\n",
              "      <td>A</td>\n",
              "      <td>N</td>\n",
              "      <td>R</td>\n",
              "      <td>-</td>\n",
              "    </tr>\n",
              "    <tr>\n",
              "      <th>2</th>\n",
              "      <td>A</td>\n",
              "      <td>Y</td>\n",
              "      <td>R</td>\n",
              "      <td>-</td>\n",
              "    </tr>\n",
              "    <tr>\n",
              "      <th>3</th>\n",
              "      <td>B</td>\n",
              "      <td>Y</td>\n",
              "      <td>K</td>\n",
              "      <td>-</td>\n",
              "    </tr>\n",
              "    <tr>\n",
              "      <th>4</th>\n",
              "      <td>B</td>\n",
              "      <td>Y</td>\n",
              "      <td>K</td>\n",
              "      <td>-</td>\n",
              "    </tr>\n",
              "    <tr>\n",
              "      <th>5</th>\n",
              "      <td>B</td>\n",
              "      <td>Y</td>\n",
              "      <td>K</td>\n",
              "      <td>-</td>\n",
              "    </tr>\n",
              "    <tr>\n",
              "      <th>6</th>\n",
              "      <td>B</td>\n",
              "      <td>N</td>\n",
              "      <td>R</td>\n",
              "      <td>-</td>\n",
              "    </tr>\n",
              "    <tr>\n",
              "      <th>7</th>\n",
              "      <td>C</td>\n",
              "      <td>N</td>\n",
              "      <td>R</td>\n",
              "      <td>-</td>\n",
              "    </tr>\n",
              "    <tr>\n",
              "      <th>8</th>\n",
              "      <td>A</td>\n",
              "      <td>Y</td>\n",
              "      <td>K</td>\n",
              "      <td>+</td>\n",
              "    </tr>\n",
              "    <tr>\n",
              "      <th>9</th>\n",
              "      <td>A</td>\n",
              "      <td>Y</td>\n",
              "      <td>K</td>\n",
              "      <td>+</td>\n",
              "    </tr>\n",
              "    <tr>\n",
              "      <th>10</th>\n",
              "      <td>B</td>\n",
              "      <td>N</td>\n",
              "      <td>K</td>\n",
              "      <td>+</td>\n",
              "    </tr>\n",
              "    <tr>\n",
              "      <th>11</th>\n",
              "      <td>B</td>\n",
              "      <td>N</td>\n",
              "      <td>K</td>\n",
              "      <td>+</td>\n",
              "    </tr>\n",
              "    <tr>\n",
              "      <th>12</th>\n",
              "      <td>B</td>\n",
              "      <td>N</td>\n",
              "      <td>K</td>\n",
              "      <td>+</td>\n",
              "    </tr>\n",
              "    <tr>\n",
              "      <th>13</th>\n",
              "      <td>C</td>\n",
              "      <td>N</td>\n",
              "      <td>K</td>\n",
              "      <td>+</td>\n",
              "    </tr>\n",
              "  </tbody>\n",
              "</table>\n",
              "</div>"
            ],
            "text/plain": [
              "   x1 x2 x3 class\n",
              "0   A  Y  K     -\n",
              "1   A  N  R     -\n",
              "2   A  Y  R     -\n",
              "3   B  Y  K     -\n",
              "4   B  Y  K     -\n",
              "5   B  Y  K     -\n",
              "6   B  N  R     -\n",
              "7   C  N  R     -\n",
              "8   A  Y  K     +\n",
              "9   A  Y  K     +\n",
              "10  B  N  K     +\n",
              "11  B  N  K     +\n",
              "12  B  N  K     +\n",
              "13  C  N  K     +"
            ]
          },
          "metadata": {
            "tags": []
          },
          "execution_count": 5
        }
      ]
    },
    {
      "cell_type": "code",
      "metadata": {
        "id": "wDVYqByzidfX"
      },
      "source": [
        "def process_attributes(attributes):\n",
        "    attributes.set_index(0, inplace=True)\n",
        "    attribute_values = attributes.transpose().to_dict('list')\n",
        "    for i in attribute_values:\n",
        "        attribute_values[i] = [x for x in attribute_values[i] if str(x) != 'nan']\n",
        "    return attribute_values"
      ],
      "execution_count": 6,
      "outputs": []
    },
    {
      "cell_type": "code",
      "metadata": {
        "id": "nEdBZBznfCc0"
      },
      "source": [
        "# Get attribute values\n",
        "attributes = pd.read_csv('examples/1819-att.csv', header=None)\n",
        "attribute_values = process_attributes(attributes)"
      ],
      "execution_count": 7,
      "outputs": []
    },
    {
      "cell_type": "code",
      "metadata": {
        "id": "39CgMiWDAOzI"
      },
      "source": [
        "# total examples\n",
        "total_examples = len(example_set.index)\n",
        "# positive examples\n",
        "positive_examples = len(example_set[example_set['class'] == '+'].index)\n",
        "# negative examples\n",
        "negative_examples = len(example_set[example_set['class'] == '-'].index)"
      ],
      "execution_count": 8,
      "outputs": []
    },
    {
      "cell_type": "code",
      "metadata": {
        "colab": {
          "base_uri": "https://localhost:8080/"
        },
        "id": "xEcMNe3ZBTyR",
        "outputId": "41451d8a-9fb3-4893-c25f-49afa46fa9ea"
      },
      "source": [
        "print(total_examples)\n",
        "print(positive_examples)\n",
        "print(negative_examples)"
      ],
      "execution_count": 9,
      "outputs": [
        {
          "output_type": "stream",
          "text": [
            "14\n",
            "6\n",
            "8\n"
          ],
          "name": "stdout"
        }
      ]
    },
    {
      "cell_type": "code",
      "metadata": {
        "id": "70LoH8Qy98F0"
      },
      "source": [
        "# entropy function\n",
        "def entropy(x,y=None):\n",
        "    y = 1-x if y is None else y\n",
        "    try: \n",
        "        return -x*math.log2(x)-y*math.log2(y)\n",
        "    except ValueError:\n",
        "        return 0"
      ],
      "execution_count": 10,
      "outputs": []
    },
    {
      "cell_type": "code",
      "metadata": {
        "id": "BnvRmvPRCgha"
      },
      "source": [
        "def get_att_values(att):\n",
        "    return attribute_values[att]"
      ],
      "execution_count": 11,
      "outputs": []
    },
    {
      "cell_type": "code",
      "metadata": {
        "id": "-9Y51lXq_na1"
      },
      "source": [
        "# remainder function\n",
        "def remainder(att, examples):\n",
        "    remainder = 0\n",
        "    att_values = get_att_values(att)\n",
        "    for val in att_values:\n",
        "        df = examples[examples[att] == val]\n",
        "        df = df[[att, 'class']]\n",
        "        # p_i + n_i\n",
        "        att_examples = len(df.index)\n",
        "\n",
        "        # an attribute value might have no examples\n",
        "        if att_examples == 0:\n",
        "            continue\n",
        "\n",
        "        p_i = len(df[df['class'] == '+'].index)\n",
        "        n_i = att_examples - p_i\n",
        "        # (p_i + n_i) / (p + n)\n",
        "        remainder += (att_examples / total_examples) * entropy(p_i/att_examples,\n",
        "                                                            n_i/att_examples)\n",
        "\n",
        "    return remainder"
      ],
      "execution_count": 12,
      "outputs": []
    },
    {
      "cell_type": "code",
      "metadata": {
        "id": "DhkguOMICLwC"
      },
      "source": [
        "# information gain function\n",
        "def IG(att, examples):\n",
        "    return entropy(positive_examples / total_examples,\n",
        "                   negative_examples / total_examples) - remainder(att, examples)"
      ],
      "execution_count": 13,
      "outputs": []
    },
    {
      "cell_type": "code",
      "metadata": {
        "id": "-tSmo6FoKkwR"
      },
      "source": [
        "# get the information gains of all the attributes in the given set of examples\n",
        "def get_information_gains(examples):\n",
        "    information_gains = {}\n",
        "    attributes = examples.columns[:-1]\n",
        "    for att in attributes:\n",
        "        information_gains[att] = IG(att, examples)\n",
        "    return information_gains"
      ],
      "execution_count": 14,
      "outputs": []
    },
    {
      "cell_type": "code",
      "metadata": {
        "id": "gyEa3RCMgbcJ"
      },
      "source": [
        "def choose_best_attribute(examples):\n",
        "    information_gains = get_information_gains(examples)\n",
        "    return max(information_gains, key=information_gains.get)"
      ],
      "execution_count": 15,
      "outputs": []
    },
    {
      "cell_type": "code",
      "metadata": {
        "id": "297h_Sb6fBlu"
      },
      "source": [
        "def get_example_mode(examples):\n",
        "    return examples['class'].mode().iloc[0]"
      ],
      "execution_count": 16,
      "outputs": []
    },
    {
      "cell_type": "code",
      "metadata": {
        "id": "8udNXC1yiP9n"
      },
      "source": [
        "# auxiliary class to hold the graph structure\n",
        "class Graph:\n",
        "\n",
        "    def __init__(self):\n",
        "        self.G = nx.Graph()\n",
        "        self.node_count = 0\n",
        "        self.id_to_string = {}\n",
        "        self.labels = {}\n",
        "\n",
        "    def add_node(self, value):\n",
        "        self.node_count\n",
        "        self.G.add_node(self.node_count)\n",
        "        self.id_to_string[self.node_count] = value\n",
        "        self.node_count += 1\n",
        "        return self.node_count - 1\n",
        "\n",
        "    def add_edge(self, x, y, value):\n",
        "        self.G.add_edge(x,y)\n",
        "        self.labels[(x, y)] = value\n",
        "\n",
        "    def show_graph(self, node_size=1500, font_size=20):\n",
        "        pos = nx.nx_pydot.pydot_layout(self.G, prog='dot')\n",
        "        nx.draw(self.G, pos, labels=self.id_to_string, with_labels=True, node_shape='s', node_size=node_size, font_size=font_size)\n",
        "        nx.draw_networkx_edge_labels(self.G, pos, edge_labels=self.labels, font_size=font_size-2.5 or 1, rotate=False)\n",
        "        plt.show()\n"
      ],
      "execution_count": 17,
      "outputs": []
    },
    {
      "cell_type": "code",
      "metadata": {
        "id": "iTjB8yOndpYq"
      },
      "source": [
        "def id3(G, examples, default=get_example_mode(example_set)):\n",
        "    attributes = examples.columns[:-1]\n",
        "    if examples.size == 0:\n",
        "        return G.add_node(default)\n",
        "    elif examples['class'].unique().size == 1: \n",
        "        return G.add_node(get_example_mode(examples))\n",
        "    elif attributes.size == 0:\n",
        "        return G.add_node(get_example_mode(examples))\n",
        "    else:\n",
        "        best = choose_best_attribute(examples)\n",
        "        root = G.add_node(best + '?')\n",
        "\n",
        "        # for each value v_i of best\n",
        "        for value in get_att_values(best):\n",
        "            # get the examples with best = v_i (examples_i)\n",
        "            examples_i = examples[examples[best] == value].drop(best, axis=1)\n",
        "            mode = get_example_mode(examples)\n",
        "            subtree = id3(G, examples_i, mode)\n",
        "            G.add_edge(root, subtree, value)\n",
        "        return root"
      ],
      "execution_count": 18,
      "outputs": []
    },
    {
      "cell_type": "code",
      "metadata": {
        "colab": {
          "base_uri": "https://localhost:8080/",
          "height": 319
        },
        "id": "K-620vcphVUu",
        "outputId": "6d8c8a8f-9ba7-4d35-cbb9-14ca1b6c5167"
      },
      "source": [
        "G = Graph()\n",
        "id3(G, example_set)\n",
        "G.show_graph()"
      ],
      "execution_count": 19,
      "outputs": [
        {
          "output_type": "display_data",
          "data": {
            "image/png": "[encoded data removed]",
            "text/plain": [
              "<Figure size 432x288 with 1 Axes>"
            ]
          },
          "metadata": {
            "tags": []
          }
        }
      ]
    }
  ]
}